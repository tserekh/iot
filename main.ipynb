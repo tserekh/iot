{
 "cells": [
  {
   "cell_type": "code",
   "execution_count": 1,
   "metadata": {},
   "outputs": [],
   "source": [
    "import pandas as pd\n",
    "import numpy as np\n",
    "import matplotlib.pyplot as plt\n",
    "\n",
    "import glob\n",
    "from datetime import datetime, timedelta\n",
    "import json\n",
    "\n",
    "import glob\n",
    "import json\n",
    "import time\n",
    "from sklearn.metrics import mean_squared_error, mean_absolute_error\n",
    "import matplotlib.pyplot as plt\n",
    "import numpy as np\n",
    "\n",
    "from bokeh.layouts import row, column\n",
    "from bokeh.models import CustomJS, Slider\n",
    "from bokeh.plotting import figure, output_file, show, ColumnDataSource, save\n",
    "from iot.core import get_bitalino_df, get_glasses_df, get_tablet_df\n",
    "\n"
   ]
  },
  {
   "cell_type": "code",
   "execution_count": 2,
   "metadata": {},
   "outputs": [
    {
     "data": {
      "text/plain": [
       "['experiments\\\\exp1.txt',\n",
       " 'experiments\\\\exp2.txt',\n",
       " 'experiments\\\\exp3.txt',\n",
       " 'experiments\\\\exp4.txt',\n",
       " 'experiments\\\\exp5.txt',\n",
       " 'experiments\\\\exp6.txt']"
      ]
     },
     "execution_count": 2,
     "metadata": {},
     "output_type": "execute_result"
    }
   ],
   "source": [
    "glob.glob('experiments/*')"
   ]
  },
  {
   "cell_type": "code",
   "execution_count": 3,
   "metadata": {},
   "outputs": [],
   "source": [
    "experiment_file = 'experiments/exp3.txt'\n",
    "experiment_name = experiment_file.split('/')[-1].split('.')[0]"
   ]
  },
  {
   "cell_type": "code",
   "execution_count": 4,
   "metadata": {},
   "outputs": [],
   "source": [
    "with open(experiment_file) as f:\n",
    "    lines = f.read().split('\\n')[:3]"
   ]
  },
  {
   "cell_type": "code",
   "execution_count": 5,
   "metadata": {},
   "outputs": [],
   "source": [
    "bitalino_path, glasses_path, tablet_path = lines"
   ]
  },
  {
   "cell_type": "code",
   "execution_count": 6,
   "metadata": {},
   "outputs": [],
   "source": [
    "dic_df = {}\n",
    "if bitalino_path:\n",
    "    dic_df['bitalino'], _ = get_bitalino_df(bitalino_path, N = 100000)\n",
    "dic_df['glasses'], _ = get_glasses_df(glasses_path, N = 10000)\n",
    "if tablet_path:\n",
    "    dic_df['tablet'], _ = get_tablet_df(tablet_path, N = 10000)"
   ]
  },
  {
   "cell_type": "code",
   "execution_count": 7,
   "metadata": {},
   "outputs": [],
   "source": [
    "js_pattern = \"\"\"\n",
    "    const data = source.data;\n",
    "    {}\n",
    "    for (var i = 0; i < data['xs'][1].length; i++) {\n",
    "        data['xs'][1][i] = data['xs2'][1][i]+phase.value+phase2.value;\n",
    "    }\n",
    "    source.change.emit();\n",
    "\"\"\""
   ]
  },
  {
   "cell_type": "code",
   "execution_count": 8,
   "metadata": {},
   "outputs": [
    {
     "name": "stderr",
     "output_type": "stream",
     "text": [
      "BokehUserWarning: ColumnDataSource's columns must be of the same length. Current lengths: ('legend', 4), ('line_color', 4), ('line_width', 4), ('xs', 2), ('xs2', 2), ('ys', 2)\n",
      "BokehDeprecationWarning: 'legend' keyword is deprecated, use explicit 'legend_label', 'legend_field', or 'legend_group' keywords instead\n"
     ]
    }
   ],
   "source": [
    "base_name  = 'bitalino'\n",
    "for sync_name in ['glasses', 'tablet'][1:]:\n",
    "    \n",
    "\n",
    "    source_dict = dict(\n",
    "        xs=[dic_df[base_name]['exp_time'].values, dic_df[sync_name]['exp_time'].values],\n",
    "        ys=[dic_df[base_name]['sync_col'].values, dic_df[sync_name]['sync_col'].values ],\n",
    "        line_color = ['red','blue']*2\n",
    "        )\n",
    "\n",
    "    source_dict['xs2'] = source_dict['xs']\n",
    "\n",
    "    source_dict['legend'] = [base_name, sync_name]*2\n",
    "    source_dict['line_width'] = [2]*2+[0]*2\n",
    "\n",
    "\n",
    "\n",
    "    p = figure(width=1500, height=500) \n",
    "    source = ColumnDataSource(source_dict)\n",
    "    delta = dic_df[base_name]['sysdatetime'].iloc[0] - dic_df[sync_name]['sysdatetime'].iloc[0]\n",
    "    delta = delta.total_seconds()\n",
    "\n",
    "\n",
    "    phase_slider = Slider(start=delta-100, end=delta+100, value=delta, step=.1, title=\"Phase\")\n",
    "    phase_slider2 = Slider(start=-2, end=2, value=0, step=.001, title=\"Phase2\")\n",
    "\n",
    "\n",
    "    callback = CustomJS(args=dict(source=source,phase=phase_slider, phase2=phase_slider2),\n",
    "                        code=js_pattern.replace('{}','phase2.value=0;'))\n",
    "    callback2 = CustomJS(args=dict(source=source,phase=phase_slider, phase2=phase_slider2),\n",
    "                        code=js_pattern.replace('{}',''))\n",
    "\n",
    "\n",
    "    phase_slider.js_on_change('value', callback)\n",
    "    phase_slider2.js_on_change('value', callback2)\n",
    "\n",
    "    p.multi_line(xs=\"xs\", ys=\"ys\",source=source,\n",
    "                    line_color='line_color',\n",
    "                 legend='legend',\n",
    "                    line_width='line_width'\n",
    "                )\n",
    "\n",
    "    layout = column(p, phase_slider, phase_slider2)\n",
    "    output_file(f'C:/Users/artem/PycharmProjects/iot/output/{experiment_name}_{sync_name}.html')\n",
    "    save(layout)"
   ]
  },
  {
   "cell_type": "code",
   "execution_count": null,
   "metadata": {},
   "outputs": [],
   "source": []
  },
  {
   "cell_type": "code",
   "execution_count": null,
   "metadata": {},
   "outputs": [],
   "source": []
  }
 ],
 "metadata": {
  "kernelspec": {
   "display_name": "Python 3",
   "language": "python",
   "name": "python3"
  },
  "language_info": {
   "codemirror_mode": {
    "name": "ipython",
    "version": 3
   },
   "file_extension": ".py",
   "mimetype": "text/x-python",
   "name": "python",
   "nbconvert_exporter": "python",
   "pygments_lexer": "ipython3",
   "version": "3.8.1"
  }
 },
 "nbformat": 4,
 "nbformat_minor": 4
}
