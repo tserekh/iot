{
 "cells": [
  {
   "cell_type": "code",
   "execution_count": 1,
   "metadata": {},
   "outputs": [],
   "source": [
    "import pandas as pd\n",
    "import numpy as np\n",
    "import matplotlib.pyplot as plt\n",
    "\n",
    "import glob\n",
    "from datetime import datetime, timedelta\n",
    "import json\n",
    "\n",
    "import glob\n",
    "import json\n",
    "import time\n",
    "from sklearn.metrics import mean_squared_error, mean_absolute_error\n",
    "import matplotlib.pyplot as plt\n",
    "import numpy as np\n",
    "\n",
    "from bokeh.layouts import row, column\n",
    "from bokeh.models import CustomJS, Slider\n",
    "from bokeh.plotting import figure, output_file, show, ColumnDataSource, save\n",
    "from iot.core import get_bitalino_df, get_glasses_df, get_tablet_df, build_graphs\n",
    "\n"
   ]
  },
  {
   "cell_type": "code",
   "execution_count": 3,
   "metadata": {},
   "outputs": [],
   "source": [
    "output_path = 'C:/Users/artem/PycharmProjects/iot/output'\n",
    "sync_names = ['glasses', 'tablet']\n",
    "base_name  = 'bitalino'\n",
    "experiment_file = 'experiments/exp3.txt'\n",
    "experiment_name = experiment_file.split('/')[-1].split('.')[0]"
   ]
  },
  {
   "cell_type": "code",
   "execution_count": 4,
   "metadata": {},
   "outputs": [],
   "source": [
    "with open(experiment_file) as f:\n",
    "    lines = f.read().split('\\n')[:3]"
   ]
  },
  {
   "cell_type": "code",
   "execution_count": 5,
   "metadata": {},
   "outputs": [],
   "source": [
    "bitalino_path, glasses_path, tablet_path = lines"
   ]
  },
  {
   "cell_type": "code",
   "execution_count": 6,
   "metadata": {},
   "outputs": [],
   "source": [
    "dic_df = {}\n",
    "if bitalino_path:\n",
    "    dic_df['bitalino'], _ = get_bitalino_df(bitalino_path, N = 100000)\n",
    "dic_df['glasses'], _ = get_glasses_df(glasses_path, N = 10000)\n",
    "if tablet_path:\n",
    "    dic_df['tablet'], _ = get_tablet_df(tablet_path, N = 10000)"
   ]
  },
  {
   "cell_type": "code",
   "execution_count": 8,
   "metadata": {},
   "outputs": [
    {
     "name": "stderr",
     "output_type": "stream",
     "text": [
      "BokehUserWarning: ColumnDataSource's columns must be of the same length. Current lengths: ('legend', 4), ('line_color', 4), ('line_width', 4), ('xs', 2), ('xs2', 2), ('ys', 2)\n",
      "BokehDeprecationWarning: 'legend' keyword is deprecated, use explicit 'legend_label', 'legend_field', or 'legend_group' keywords instead\n",
      "BokehUserWarning: ColumnDataSource's columns must be of the same length. Current lengths: ('legend', 4), ('line_color', 4), ('line_width', 4), ('xs', 2), ('xs2', 2), ('ys', 2)\n",
      "BokehDeprecationWarning: 'legend' keyword is deprecated, use explicit 'legend_label', 'legend_field', or 'legend_group' keywords instead\n"
     ]
    }
   ],
   "source": [
    "build_graphs(dic_df, base_name, sync_names, experiment_name, output_path)"
   ]
  }
 ],
 "metadata": {
  "kernelspec": {
   "display_name": "Python 3",
   "language": "python",
   "name": "python3"
  },
  "language_info": {
   "codemirror_mode": {
    "name": "ipython",
    "version": 3
   },
   "file_extension": ".py",
   "mimetype": "text/x-python",
   "name": "python",
   "nbconvert_exporter": "python",
   "pygments_lexer": "ipython3",
   "version": "3.8.1"
  }
 },
 "nbformat": 4,
 "nbformat_minor": 4
}
