{
 "cells": [
  {
   "cell_type": "code",
   "execution_count": 1,
   "metadata": {},
   "outputs": [],
   "source": [
    "from iot.core import get_bitalino_df, get_glasses_df, get_tablet_df, build_graphs"
   ]
  },
  {
   "cell_type": "code",
   "execution_count": 3,
   "metadata": {},
   "outputs": [],
   "source": [
    "output_path = 'C:/Users/artem/PycharmProjects/iot/output'\n",
    "sync_names = ['glasses', 'tablet']\n",
    "base_name  = 'bitalino'\n",
    "experiment_file = 'experiments/exp10.txt'\n",
    "experiment_name = experiment_file.split('/')[-1].split('.')[0]"
   ]
  },
  {
   "cell_type": "code",
   "execution_count": 4,
   "metadata": {},
   "outputs": [],
   "source": [
    "bitalino_path, glasses_path, tablet_path = lines"
   ]
  },
  {
   "cell_type": "code",
   "execution_count": 5,
   "metadata": {},
   "outputs": [],
   "source": [
    "dic_df = {}\n",
    "if bitalino_path:\n",
    "    dic_df['bitalino'], dic_bitalino = get_bitalino_df(bitalino_path, N = 100000)\n",
    "dic_df['glasses'], dic_glasses = get_glasses_df(glasses_path, N = 10000)\n",
    "if tablet_path:\n",
    "    dic_df['tablet'], dic_tablet = get_tablet_df(tablet_path, N = 10000)"
   ]
  },
  {
   "cell_type": "code",
   "execution_count": 6,
   "metadata": {},
   "outputs": [],
   "source": [
    "build_graphs(dic_df, base_name, sync_names, experiment_name, output_path)"
   ]
  }
 ],
 "metadata": {
  "kernelspec": {
   "display_name": "Python 3",
   "language": "python",
   "name": "python3"
  },
  "language_info": {
   "codemirror_mode": {
    "name": "ipython",
    "version": 3
   },
   "file_extension": ".py",
   "mimetype": "text/x-python",
   "name": "python",
   "nbconvert_exporter": "python",
   "pygments_lexer": "ipython3",
   "version": "3.8.1"
  },
  "pycharm": {
   "stem_cell": {
    "cell_type": "raw",
    "source": [],
    "metadata": {
     "collapsed": false
    }
   }
  }
 },
 "nbformat": 4,
 "nbformat_minor": 4
}